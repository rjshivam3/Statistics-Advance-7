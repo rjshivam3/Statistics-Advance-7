{
 "cells": [
  {
   "cell_type": "markdown",
   "id": "1d7202ee-306d-4d86-9bc2-3fa1e627e5d5",
   "metadata": {},
   "source": [
    "## Q1. Write a Python function that takes in two arrays of data and calculates the F-value for a variance ratio test. The function should return the F-value and the corresponding p-value for the test.\n"
   ]
  },
  {
   "cell_type": "code",
   "execution_count": 1,
   "id": "5c6d75a8-eb17-464a-bf87-7610691ee423",
   "metadata": {},
   "outputs": [
    {
     "data": {
      "text/plain": [
       "(1.0909090909090908, 0.4557831124459396)"
      ]
     },
     "execution_count": 1,
     "metadata": {},
     "output_type": "execute_result"
    }
   ],
   "source": [
    "import numpy as np\n",
    "import scipy.stats as stats\n",
    "\n",
    "def f_test(array1, array2):\n",
    "    f_value = np.var(array1, ddof=1) / np.var(array2, ddof=1)\n",
    "    dfn = len(array1) - 1\n",
    "    dfd = len(array2) - 1\n",
    "    p_value = 1 - stats.f.cdf(f_value, dfn, dfd)\n",
    "    return f_value, p_value\n",
    "\n",
    "array1 = [10, 12, 23, 23, 16, 23, 21, 16]\n",
    "array2 = [14, 18, 24, 21, 24, 27, 22, 30]\n",
    "f_value, p_value = f_test(array1, array2)\n",
    "f_value, p_value"
   ]
  },
  {
   "cell_type": "markdown",
   "id": "83828811-41fe-4e01-89c4-6cd02b0ce4f7",
   "metadata": {},
   "source": [
    "## Q2. Given a significance level of 0.05 and the degrees of freedom for the numerator and denominator of an F-distribution, write a Python function that returns the critical F-value for a two-tailed test."
   ]
  },
  {
   "cell_type": "code",
   "execution_count": 3,
   "id": "c0f691fb-3ccb-42b3-944d-1c93e47b4a56",
   "metadata": {},
   "outputs": [
    {
     "data": {
      "text/plain": [
       "4.994909219063238"
      ]
     },
     "execution_count": 3,
     "metadata": {},
     "output_type": "execute_result"
    }
   ],
   "source": [
    "def critical_f_value(alpha, dfn, dfd):\n",
    "    return stats.f.ppf(1 - alpha / 2, dfn, dfd)\n",
    "\n",
    "alpha = 0.05\n",
    "dfn = 7\n",
    "dfd = 7\n",
    "critical_value = critical_f_value(alpha, dfn, dfd)\n",
    "critical_value\n"
   ]
  },
  {
   "cell_type": "markdown",
   "id": "b1bfff36-efe1-43ef-b912-b6b42c6e5966",
   "metadata": {},
   "source": [
    "## Q3. Write a Python program that generates random samples from two normal distributions with known variances and uses an F-test to determine if the variances are equal. The program should output the F-value, degrees of freedom, and p-value for the test."
   ]
  },
  {
   "cell_type": "code",
   "execution_count": 6,
   "id": "577c5fd7-30e4-40f2-b9fa-3479ae415c85",
   "metadata": {},
   "outputs": [
    {
     "data": {
      "text/plain": [
       "(2.412569108771957, 29, 29, 0.010309538255055428)"
      ]
     },
     "execution_count": 6,
     "metadata": {},
     "output_type": "execute_result"
    }
   ],
   "source": [
    "def generate_and_test(mu1, sigma1, mu2, sigma2, n1, n2):\n",
    "    sample1 = np.random.normal(mu1, sigma1, n1)\n",
    "    sample2 = np.random.normal(mu2, sigma2, n2)\n",
    "    f_value, p_value = f_test(sample1, sample2)\n",
    "    return f_value, n1-1, n2-1, p_value\n",
    "\n",
    "f_value, dfn, dfd, p_value = generate_and_test(0, 1, 0, 1, 30, 30)\n",
    "f_value, dfn, dfd, p_value\n"
   ]
  },
  {
   "cell_type": "markdown",
   "id": "0911e0a4-6d2a-4e1c-95b5-149982476b0f",
   "metadata": {},
   "source": [
    "## Q4. The variances of two populations are known to be 10 and 15. A sample of 12 observations is taken from each population. Conduct an F-test at the 5% significance level to determine if the variances are significantly different."
   ]
  },
  {
   "cell_type": "code",
   "execution_count": 7,
   "id": "0d0bb273-60c5-48bc-8914-9fe530707c47",
   "metadata": {},
   "outputs": [
    {
     "data": {
      "text/plain": [
       "(0.6666666666666666, 11, 11, False)"
      ]
     },
     "execution_count": 7,
     "metadata": {},
     "output_type": "execute_result"
    }
   ],
   "source": [
    "def f_test_known_variances(var1, var2, n1, n2, alpha):\n",
    "    f_value = var1 / var2\n",
    "    dfn = n1 - 1\n",
    "    dfd = n2 - 1\n",
    "    critical_value = stats.f.ppf(1 - alpha, dfn, dfd)\n",
    "    return f_value, dfn, dfd, f_value > critical_value\n",
    "\n",
    "f_value, dfn, dfd, reject_null = f_test_known_variances(10, 15, 12, 12, 0.05)\n",
    "f_value, dfn, dfd, reject_null\n"
   ]
  },
  {
   "cell_type": "markdown",
   "id": "7be97951-6c83-4b11-a66b-2faf2325fc02",
   "metadata": {},
   "source": [
    "## Q5. A manufacturer claims that the variance of the diameter of a certain product is 0.005. A sample of 25 products is taken, and the sample variance is found to be 0.006. Conduct an F-test at the 1% significance level to determine if the claim is justified."
   ]
  },
  {
   "cell_type": "code",
   "execution_count": 8,
   "id": "c90b4931-d7e3-47ab-b9db-6a8b66502e71",
   "metadata": {
    "tags": []
   },
   "outputs": [
    {
     "data": {
      "text/plain": [
       "(0.6666666666666666, 11, 11)"
      ]
     },
     "execution_count": 8,
     "metadata": {},
     "output_type": "execute_result"
    }
   ],
   "source": [
    "def f_test_sample_variance(claimed_var, sample_var, n, alpha):\n",
    "    f_value = sample_var / claimed_var\n",
    "    dfn = n - 1\n",
    "    dfd = n - 1\n",
    "    critical_value = stats.f.ppf(1 - alpha, dfn, dfd)\n",
    "    return f_value, dfn, dfd, f_value > critical_value\n",
    "\n",
    "f_value, dfn, dfd,\n"
   ]
  },
  {
   "cell_type": "markdown",
   "id": "3a241f23-d436-4464-88e8-e8012645d8b2",
   "metadata": {},
   "source": [
    "## Q6. Write a Python function that takes in the degrees of freedom for the numerator and denominator of an F-distribution and calculates the mean and variance of the distribution. The function should return the mean and variance as a tuple."
   ]
  },
  {
   "cell_type": "code",
   "execution_count": 9,
   "id": "fa21f38f-fd48-472a-aa8d-312c4ff06f40",
   "metadata": {},
   "outputs": [
    {
     "data": {
      "text/plain": [
       "(1.25, 1.3541666666666667)"
      ]
     },
     "execution_count": 9,
     "metadata": {},
     "output_type": "execute_result"
    }
   ],
   "source": [
    "def f_distribution_mean_variance(dfn, dfd):\n",
    "    mean = dfd / (dfd - 2) if dfd > 2 else np.nan\n",
    "    variance = (2 * (dfd**2) * (dfn + dfd - 2)) / (dfn * ((dfd - 2)**2) * (dfd - 4)) if dfd > 4 else np.nan\n",
    "    return mean, variance\n",
    "\n",
    "dfn = 5\n",
    "dfd = 10\n",
    "mean, variance = f_distribution_mean_variance(dfn, dfd)\n",
    "mean, variance\n"
   ]
  },
  {
   "cell_type": "markdown",
   "id": "d94f0042-29a5-4d6d-bb9e-e64922d50a7b",
   "metadata": {},
   "source": [
    "## Q7. A random sample of 10 measurements is taken from a normal population with unknown variance. The sample variance is found to be 25. Another random sample of 15 measurements is taken from another normal population with unknown variance, and the sample variance is found to be 20. Conduct an F-test at the 10% significance level to determine if the variances are significantly different."
   ]
  },
  {
   "cell_type": "code",
   "execution_count": 10,
   "id": "4f8d2e3f-7264-4d65-9724-1f76d1ccc591",
   "metadata": {},
   "outputs": [
    {
     "data": {
      "text/plain": [
       "(1.25, 9, 14, 0.3416097191292977)"
      ]
     },
     "execution_count": 10,
     "metadata": {},
     "output_type": "execute_result"
    }
   ],
   "source": [
    "def f_test_samples(sample_var1, sample_var2, n1, n2, alpha):\n",
    "    f_value = sample_var1 / sample_var2\n",
    "    dfn = n1 - 1\n",
    "    dfd = n2 - 1\n",
    "    p_value = 1 - stats.f.cdf(f_value, dfn, dfd)\n",
    "    return f_value, dfn, dfd, p_value\n",
    "\n",
    "sample_var1 = 25\n",
    "sample_var2 = 20\n",
    "n1 = 10\n",
    "n2 = 15\n",
    "alpha = 0.10\n",
    "f_value, dfn, dfd, p_value = f_test_samples(sample_var1, sample_var2, n1, n2, alpha)\n",
    "f_value, dfn, dfd, p_value\n"
   ]
  },
  {
   "cell_type": "markdown",
   "id": "47f11ac6-51b4-437e-b1f7-a862e15d8110",
   "metadata": {},
   "source": [
    "## Q8. The following data represent the waiting times in minutes at two different restaurants on a Saturday night: Restaurant A: 24, 25, 28, 23, 22, 20, 27; Restaurant B: 31, 33, 35, 30, 32, 36. Conduct an F-test at the 5% significance level to determine if the variances are significantly different."
   ]
  },
  {
   "cell_type": "code",
   "execution_count": 11,
   "id": "61035070-a945-4de3-a3d4-bc5eb81a0884",
   "metadata": {},
   "outputs": [
    {
     "data": {
      "text/plain": [
       "(1.4551907719609583, 6, 5, 0.3487407873968742)"
      ]
     },
     "execution_count": 11,
     "metadata": {},
     "output_type": "execute_result"
    }
   ],
   "source": [
    "def f_test_restaurant_waiting_times(times1, times2, alpha):\n",
    "    return f_test_samples(np.var(times1, ddof=1), np.var(times2, ddof=1), len(times1), len(times2), alpha)\n",
    "\n",
    "times1 = [24, 25, 28, 23, 22, 20, 27]\n",
    "times2 = [31, 33, 35, 30, 32, 36]\n",
    "alpha = 0.05\n",
    "f_value, dfn, dfd, p_value = f_test_restaurant_waiting_times(times1, times2, alpha)\n",
    "f_value, dfn, dfd, p_value\n"
   ]
  },
  {
   "cell_type": "markdown",
   "id": "d9d1d906-7782-4ecc-be27-54a3a611a47b",
   "metadata": {},
   "source": [
    "## Q9. The following data represent the test scores of two groups of students: Group A: 80, 85, 90, 92, 87, 83; Group B: 75, 78, 82, 79, 81, 84. Conduct an F-test at the 1% significance level to determine if the variances are significantly different."
   ]
  },
  {
   "cell_type": "code",
   "execution_count": 12,
   "id": "a58a5c1b-e861-410c-a8e3-0d1426020f8c",
   "metadata": {},
   "outputs": [
    {
     "data": {
      "text/plain": [
       "(1.9442622950819677, 5, 5, 0.2415521774535344)"
      ]
     },
     "execution_count": 12,
     "metadata": {},
     "output_type": "execute_result"
    }
   ],
   "source": [
    "def f_test_student_scores(scores1, scores2, alpha):\n",
    "    return f_test_samples(np.var(scores1, ddof=1), np.var(scores2, ddof=1), len(scores1), len(scores2), alpha)\n",
    "\n",
    "scores1 = [80, 85, 90, 92, 87, 83]\n",
    "scores2 = [75, 78, 82, 79, 81, 84]\n",
    "alpha = 0.01\n",
    "f_value, dfn, dfd, p_value = f_test_student_scores(scores1, scores2, alpha)\n",
    "f_value, dfn, dfd, p_value\n"
   ]
  },
  {
   "cell_type": "code",
   "execution_count": null,
   "id": "3b54102e-42c0-4298-b046-532db88efa96",
   "metadata": {},
   "outputs": [],
   "source": []
  }
 ],
 "metadata": {
  "kernelspec": {
   "display_name": "Python 3 (ipykernel)",
   "language": "python",
   "name": "python3"
  },
  "language_info": {
   "codemirror_mode": {
    "name": "ipython",
    "version": 3
   },
   "file_extension": ".py",
   "mimetype": "text/x-python",
   "name": "python",
   "nbconvert_exporter": "python",
   "pygments_lexer": "ipython3",
   "version": "3.10.8"
  }
 },
 "nbformat": 4,
 "nbformat_minor": 5
}
